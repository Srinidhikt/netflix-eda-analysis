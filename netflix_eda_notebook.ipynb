{
 "cells": [
  {
   "cell_type": "markdown",
   "id": "16c2fba0",
   "metadata": {},
   "source": [
    "# Netflix EDA Notebook"
   ]
  },
  {
   "cell_type": "code",
   "execution_count": null,
   "id": "c19a914d",
   "metadata": {},
   "outputs": [],
   "source": [
    "\n",
    "import pandas as pd\n",
    "import matplotlib.pyplot as plt\n",
    "import seaborn as sns\n",
    "\n",
    "df = pd.read_excel(\"netflix_titles_c.xlsx\")\n",
    "df.fillna(\"Unknown\", inplace=True)\n",
    "\n",
    "df.info()\n",
    "df.describe(include=\"all\").transpose()\n"
   ]
  },
  {
   "cell_type": "markdown",
   "id": "5808cf10",
   "metadata": {},
   "source": [
    "## Content Type Distribution"
   ]
  },
  {
   "cell_type": "code",
   "execution_count": null,
   "id": "c5a41a91",
   "metadata": {},
   "outputs": [],
   "source": [
    "\n",
    "sns.countplot(data=df, x=\"content_type\", palette=\"Set2\")\n",
    "plt.title(\"Content Type Distribution\")\n",
    "plt.show()\n"
   ]
  },
  {
   "cell_type": "markdown",
   "id": "975b72d4",
   "metadata": {},
   "source": [
    "## Release Year Distribution"
   ]
  },
  {
   "cell_type": "code",
   "execution_count": null,
   "id": "42900ec8",
   "metadata": {},
   "outputs": [],
   "source": [
    "\n",
    "sns.histplot(df[\"release_yr\"], bins=30, kde=False, color=\"skyblue\")\n",
    "plt.title(\"Release Year Distribution\")\n",
    "plt.show()\n"
   ]
  },
  {
   "cell_type": "markdown",
   "id": "4bd90ca7",
   "metadata": {},
   "source": [
    "## Rating Distribution"
   ]
  },
  {
   "cell_type": "code",
   "execution_count": null,
   "id": "d2745ed2",
   "metadata": {},
   "outputs": [],
   "source": [
    "\n",
    "sns.countplot(data=df, y=\"rating\", order=df[\"rating\"].value_counts().index, palette=\"coolwarm\")\n",
    "plt.title(\"Rating Distribution\")\n",
    "plt.show()\n"
   ]
  },
  {
   "cell_type": "markdown",
   "id": "e05ed908",
   "metadata": {},
   "source": [
    "## Correlation Heatmap"
   ]
  },
  {
   "cell_type": "code",
   "execution_count": null,
   "id": "0d865cef",
   "metadata": {},
   "outputs": [],
   "source": [
    "\n",
    "df[\"duration_num\"] = df[\"duration\"].str.extract('(\\d+)').astype(float)\n",
    "sns.heatmap(df[[\"release_yr\", \"duration_num\"]].corr(), annot=True, cmap=\"Blues\")\n",
    "plt.title(\"Correlation Heatmap\")\n",
    "plt.show()\n"
   ]
  },
  {
   "cell_type": "markdown",
   "id": "3754c35a",
   "metadata": {},
   "source": [
    "## Pairplot"
   ]
  },
  {
   "cell_type": "code",
   "execution_count": null,
   "id": "7d3fb473",
   "metadata": {},
   "outputs": [],
   "source": [
    "\n",
    "sns.pairplot(df[[\"release_yr\", \"duration_num\"]].dropna())\n",
    "plt.show()\n"
   ]
  }
 ],
 "metadata": {},
 "nbformat": 4,
 "nbformat_minor": 5
}
